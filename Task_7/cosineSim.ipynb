{
 "cells": [
  {
   "cell_type": "code",
   "execution_count": 1,
   "metadata": {},
   "outputs": [],
   "source": [
    "import sys\n",
    " \n",
    "# add python folder\n",
    "sys.path.insert(0, 'python')\n",
    "\n",
    "from embeddingStructure import embeddingStructure\n",
    "from batch import batch\n",
    "import utils as cSim\n",
    "\n",
    "import logging\n",
    "import time\n",
    "import threading\n",
    "import numpy as np\n",
    "import pandas as pd\n",
    "from tqdm import tqdm\n",
    "import matplotlib.pyplot as plt\n",
    "from tabulate import tabulate\n",
    "import plotly.express as px\n",
    "\n",
    " "
   ]
  },
  {
   "cell_type": "code",
   "execution_count": 2,
   "metadata": {},
   "outputs": [
    {
     "name": "stderr",
     "output_type": "stream",
     "text": [
      "12:09:50: Main    : Starting\n"
     ]
    }
   ],
   "source": [
    "# Log\n",
    "format = \"%(asctime)s: %(message)s\"\n",
    "logging.basicConfig(format=format, level=logging.INFO, datefmt=\"%H:%M:%S\")\n",
    "logging.info(\"Main    : Starting\")"
   ]
  },
  {
   "cell_type": "code",
   "execution_count": 3,
   "metadata": {},
   "outputs": [
    {
     "name": "stderr",
     "output_type": "stream",
     "text": [
      "12:09:52: batch    : starting section\n",
      "12:09:52: batch    : line found\n"
     ]
    },
    {
     "name": "stdout",
     "output_type": "stream",
     "text": [
      "---- batch 04 -----\n"
     ]
    },
    {
     "name": "stderr",
     "output_type": "stream",
     "text": [
      "12:09:56: batch    : section done\n",
      "12:09:56: batch    : starting section\n",
      "12:09:56: batch    : line found\n"
     ]
    },
    {
     "name": "stdout",
     "output_type": "stream",
     "text": [
      "---- batch 03 -----\n"
     ]
    },
    {
     "name": "stderr",
     "output_type": "stream",
     "text": [
      "12:09:57: batch    : section done\n",
      "12:09:57: batch    : starting section\n",
      "12:09:57: batch    : line found\n",
      "12:09:57: batch    : section done\n",
      "12:09:57: batch    : starting section\n",
      "12:09:57: batch    : line found\n",
      "12:09:57: batch    : section done\n"
     ]
    },
    {
     "name": "stdout",
     "output_type": "stream",
     "text": [
      "---- batch 02 -----\n",
      "---- batch 01 -----\n"
     ]
    }
   ],
   "source": [
    "# Create batches\n",
    "filename = \"/home/ubuntu/sampled_embeddings.csv\"\n",
    "\n",
    "batch_01 = batch()\n",
    "batch_02 = batch()\n",
    "batch_03 = batch()\n",
    "batch_04 = batch()\n",
    "\n",
    "print(\"---- batch 04 -----\")\n",
    "batch_04.load(filename, 1, 10000)\n",
    "\n",
    "print(\"---- batch 03 -----\")\n",
    "batch_03.load(filename, 1, 1000)\n",
    "\n",
    "print(\"---- batch 02 -----\")\n",
    "batch_02.load(filename, 1, 100)\n",
    "\n",
    "print(\"---- batch 01 -----\")\n",
    "batch_01.load(filename, 1, 10)\n"
   ]
  },
  {
   "cell_type": "code",
   "execution_count": 5,
   "metadata": {},
   "outputs": [
    {
     "name": "stderr",
     "output_type": "stream",
     "text": [
      "09:29:46: Main    : all done\n"
     ]
    },
    {
     "name": "stdout",
     "output_type": "stream",
     "text": [
      "9\n",
      "99\n",
      "999\n",
      "9999\n"
     ]
    }
   ],
   "source": [
    "# print info about batches\n",
    "logging.info(\"Main    : all done\")\n",
    "print( len(batch_01.items))\n",
    "print( len(batch_02.items))\n",
    "print( len(batch_03.items))\n",
    "print( len(batch_04.items))"
   ]
  },
  {
   "cell_type": "code",
   "execution_count": 6,
   "metadata": {},
   "outputs": [
    {
     "name": "stderr",
     "output_type": "stream",
     "text": [
      "100%|██████████| 9/9 [00:00<00:00, 3090.11it/s]\n",
      "100%|██████████| 99/99 [00:00<00:00, 779.52it/s]\n",
      " 40%|███▉      | 399/999 [00:05<00:07, 76.32it/s]\n"
     ]
    },
    {
     "ename": "KeyboardInterrupt",
     "evalue": "",
     "output_type": "error",
     "traceback": [
      "\u001b[0;31m---------------------------------------------------------------------------\u001b[0m",
      "\u001b[0;31mKeyboardInterrupt\u001b[0m                         Traceback (most recent call last)",
      "Cell \u001b[0;32mIn[6], line 25\u001b[0m\n\u001b[1;32m     22\u001b[0m \u001b[39mfor\u001b[39;00m k \u001b[39min\u001b[39;00m \u001b[39mrange\u001b[39m(\u001b[39mlen\u001b[39m(batches[i]\u001b[39m.\u001b[39mitems)):\n\u001b[1;32m     23\u001b[0m     \u001b[39m# 1 vs 1\u001b[39;00m\n\u001b[1;32m     24\u001b[0m     OneOneTimes[i] \u001b[39m=\u001b[39m time\u001b[39m.\u001b[39mtime()\n\u001b[0;32m---> 25\u001b[0m     matrixVal[j,k] \u001b[39m=\u001b[39m cSim\u001b[39m.\u001b[39;49mcosineSimilarity(batches[i]\u001b[39m.\u001b[39;49mitems[j]\u001b[39m.\u001b[39;49mdata,batches[i]\u001b[39m.\u001b[39;49mitems[k]\u001b[39m.\u001b[39;49mdata)\n\u001b[1;32m     26\u001b[0m     OneOneTimes[i] \u001b[39m=\u001b[39m time\u001b[39m.\u001b[39mtime() \u001b[39m-\u001b[39m OneOneTimes[i]\n\u001b[1;32m     27\u001b[0m OneAllTimes[i] \u001b[39m=\u001b[39m time\u001b[39m.\u001b[39mtime() \u001b[39m-\u001b[39m OneAllTimes[i]\n",
      "File \u001b[0;32m~/Data-mining-TUM/Task_7/python/utils.py:8\u001b[0m, in \u001b[0;36mcosineSimilarity\u001b[0;34m(vectorA, vectorB)\u001b[0m\n\u001b[1;32m      4\u001b[0m \u001b[39mdef\u001b[39;00m \u001b[39mcosineSimilarity\u001b[39m(vectorA, vectorB):\n\u001b[1;32m      5\u001b[0m     \u001b[39m\"\"\"\u001b[39;00m\n\u001b[1;32m      6\u001b[0m \u001b[39m    vectors must be 1xN dimension\u001b[39;00m\n\u001b[1;32m      7\u001b[0m \u001b[39m    \"\"\"\u001b[39;00m\n\u001b[0;32m----> 8\u001b[0m     \u001b[39mreturn\u001b[39;00m ( np\u001b[39m.\u001b[39mdot(vectorA, vectorB)\u001b[39m/\u001b[39m(norm(vectorA) \u001b[39m*\u001b[39m norm(vectorB)) )\n",
      "File \u001b[0;32m<__array_function__ internals>:180\u001b[0m, in \u001b[0;36mnorm\u001b[0;34m(*args, **kwargs)\u001b[0m\n",
      "File \u001b[0;32m~/.local/lib/python3.10/site-packages/numpy/linalg/linalg.py:2513\u001b[0m, in \u001b[0;36mnorm\u001b[0;34m(x, ord, axis, keepdims)\u001b[0m\n\u001b[1;32m   2508\u001b[0m \u001b[39mif\u001b[39;00m ((\u001b[39mord\u001b[39m \u001b[39mis\u001b[39;00m \u001b[39mNone\u001b[39;00m) \u001b[39mor\u001b[39;00m\n\u001b[1;32m   2509\u001b[0m     (\u001b[39mord\u001b[39m \u001b[39min\u001b[39;00m (\u001b[39m'\u001b[39m\u001b[39mf\u001b[39m\u001b[39m'\u001b[39m, \u001b[39m'\u001b[39m\u001b[39mfro\u001b[39m\u001b[39m'\u001b[39m) \u001b[39mand\u001b[39;00m ndim \u001b[39m==\u001b[39m \u001b[39m2\u001b[39m) \u001b[39mor\u001b[39;00m\n\u001b[1;32m   2510\u001b[0m     (\u001b[39mord\u001b[39m \u001b[39m==\u001b[39m \u001b[39m2\u001b[39m \u001b[39mand\u001b[39;00m ndim \u001b[39m==\u001b[39m \u001b[39m1\u001b[39m)):\n\u001b[1;32m   2512\u001b[0m     x \u001b[39m=\u001b[39m x\u001b[39m.\u001b[39mravel(order\u001b[39m=\u001b[39m\u001b[39m'\u001b[39m\u001b[39mK\u001b[39m\u001b[39m'\u001b[39m)\n\u001b[0;32m-> 2513\u001b[0m     \u001b[39mif\u001b[39;00m isComplexType(x\u001b[39m.\u001b[39;49mdtype\u001b[39m.\u001b[39;49mtype):\n\u001b[1;32m   2514\u001b[0m         sqnorm \u001b[39m=\u001b[39m dot(x\u001b[39m.\u001b[39mreal, x\u001b[39m.\u001b[39mreal) \u001b[39m+\u001b[39m dot(x\u001b[39m.\u001b[39mimag, x\u001b[39m.\u001b[39mimag)\n\u001b[1;32m   2515\u001b[0m     \u001b[39melse\u001b[39;00m:\n",
      "File \u001b[0;32m~/.local/lib/python3.10/site-packages/numpy/linalg/linalg.py:117\u001b[0m, in \u001b[0;36misComplexType\u001b[0;34m(t)\u001b[0m\n\u001b[1;32m    116\u001b[0m \u001b[39mdef\u001b[39;00m \u001b[39misComplexType\u001b[39m(t):\n\u001b[0;32m--> 117\u001b[0m     \u001b[39mreturn\u001b[39;00m \u001b[39missubclass\u001b[39;49m(t, complexfloating)\n",
      "\u001b[0;31mKeyboardInterrupt\u001b[0m: "
     ]
    }
   ],
   "source": [
    "# All vs all cosine similarity on all entries -  later we do them on features only\n",
    "batches = [batch_01,batch_02,batch_03,batch_04]\n",
    "simMatrix = [np.empty((len(batch_01.items), len(batch_01.items)), dtype=np.float16), \n",
    "            np.empty((len(batch_02.items), len(batch_02.items)), dtype=np.float16),\n",
    "            np.empty((len(batch_03.items), len(batch_03.items)), dtype=np.float16),\n",
    "            np.empty((len(batch_04.items), len(batch_04.items)), dtype=np.float16)]\n",
    "\n",
    "# This stores the times\n",
    "AllTimes = [0,0,0,0]\n",
    "OneAllTimes = [0,0,0,0]\n",
    "OneOneTimes = [0,0,0,0]\n",
    "\n",
    "# loop through all batch sizes\n",
    "for i in range(len(batches)):\n",
    "    AllTimes[i] = time.time()\n",
    "    matrixVal = simMatrix[i]\n",
    "    \n",
    "    # all vs all\n",
    "    for j in tqdm(range(len(batches[i].items)), leave=True):\n",
    "        # 1 vs all\n",
    "        OneAllTimes[i] = time.time()\n",
    "        for k in range(len(batches[i].items)):\n",
    "            # 1 vs 1\n",
    "            OneOneTimes[i] = time.time()\n",
    "            matrixVal[j,k] = cSim.cosineSimilarity(batches[i].items[j].data,batches[i].items[k].data)\n",
    "            OneOneTimes[i] = time.time() - OneOneTimes[i]\n",
    "        OneAllTimes[i] = time.time() - OneAllTimes[i]\n",
    "    AllTimes[i] = time.time() - AllTimes[i]\n",
    "\n",
    "AllTimes.append(\"All vs. All\")\n",
    "OneAllTimes.append(\"One vs. All\")\n",
    "OneOneTimes.append(\"One vs. One\")\n"
   ]
  },
  {
   "cell_type": "code",
   "execution_count": 62,
   "metadata": {},
   "outputs": [
    {
     "name": "stdout",
     "output_type": "stream",
     "text": [
      "    batch_1      batch_2       batch_3         batch_4  type\n",
      "-----------  -----------  ------------  --------------  -----------\n",
      "0.00620723   0.146036     13.5511       1383.06         All vs. All\n",
      "0.000123024  0.00110531    0.0129561       0.131777     One vs. All\n",
      "1.28746e-05  1.07288e-05   1.07288e-05     1.28746e-05  One vs. One\n"
     ]
    }
   ],
   "source": [
    "print(tabulate([AllTimes,OneAllTimes,OneOneTimes], \n",
    "headers=[\"batch_1\",\"batch_2\",\"batch_3\",\"batch_4\",\"type\"]))"
   ]
  },
  {
   "cell_type": "code",
   "execution_count": 63,
   "metadata": {},
   "outputs": [
    {
     "data": {
      "image/png": "[encoded data removed]",
      "text/plain": [
       "<Figure size 640x480 with 4 Axes>"
      ]
     },
     "metadata": {},
     "output_type": "display_data"
    }
   ],
   "source": [
    "a = np.random.random((16, 16))\n",
    "\n",
    "plt.subplot(2,2,1)\n",
    "plt.imshow(simMatrix[0], cmap='hot', interpolation='nearest')\n",
    "plt.subplot(2,2,2)\n",
    "plt.imshow(simMatrix[1], cmap='hot', interpolation='nearest')\n",
    "plt.subplot(2,2,3)\n",
    "plt.imshow(simMatrix[2], cmap='hot', interpolation='nearest')\n",
    "plt.subplot(2,2,4)\n",
    "plt.imshow(simMatrix[3], cmap='hot', interpolation='nearest')\n",
    "\n",
    "\n",
    "plt.show()"
   ]
  },
  {
   "cell_type": "code",
   "execution_count": 64,
   "metadata": {},
   "outputs": [
    {
     "name": "stdout",
     "output_type": "stream",
     "text": [
      "matrix Size: 9 | min: 0.2178 | max: 1.0\n",
      "matrix Size: 99 | min: 0.0555 | max: 1.0\n",
      "matrix Size: 999 | min: 0.01041 | max: 1.0\n",
      "matrix Size: 9999 | min: -0.004025 | max: 1.0\n"
     ]
    }
   ],
   "source": [
    "for item in simMatrix:\n",
    "    print(\"matrix Size: \" + str(len(item)) + \n",
    "          \" | min: \" + str(min(map(min, item))) +\n",
    "          \" | max: \" + str(max(map(max, item))))"
   ]
  },
  {
   "cell_type": "code",
   "execution_count": 13,
   "metadata": {},
   "outputs": [
    {
     "name": "stderr",
     "output_type": "stream",
     "text": [
      "/home/ubuntu/.local/lib/python3.10/site-packages/plotly/express/_core.py:279: FutureWarning:\n",
      "\n",
      "iteritems is deprecated and will be removed in a future version. Use .items instead.\n",
      "\n"
     ]
    },
    {
     "data": {
      "application/vnd.plotly.v1+json": {
       "config": {
        "plotlyServerURL": "https://plot.ly"
       },
       "data": [
        {
         "dimensions": [
          {
           "label": "0",
           "values": [
            0.01654052734375,
            -0.015411376953125,
            -0.01355743408203125,
            -0.033294677734375,
            6.9138506883507e-310,
            6.91379342182064e-310,
            6.91379342441745e-310,
            6.9138506883507e-310,
            6.91379857285816e-310
           ]
          },
          {
           "label": "1",
           "values": [
            -0.0254669189453125,
            -0.020721435546875,
            0.035919189453125,
            0.0285186767578125,
            6.91379342185147e-310,
            6.91384974986628e-310,
            6.9138488213201e-310,
            6.9137934243368e-310,
            6.9138483874024e-310
           ]
          },
          {
           "label": "2",
           "values": [
            -0.043426513671875,
            -0.009429931640625,
            0.0248565673828125,
            -0.051788330078125,
            6.9138507795212e-310,
            6.9138506883507e-310,
            6.91385068834595e-310,
            6.9138498302638e-310,
            6.9137934244957e-310
           ]
          },
          {
           "label": "3",
           "values": [
            -0.045684814453125,
            -0.048828125,
            -0.038604736328125,
            -0.00415802001953125,
            6.9138506884977e-310,
            6.91379342186096e-310,
            6.9138488213201e-310,
            6.9138506883507e-310,
            6.9138488213201e-310
           ]
          },
          {
           "label": "4",
           "values": [
            0.036041259765625,
            0.01280975341796875,
            -0.009368896484375,
            0.0212554931640625,
            6.91379342192736e-310,
            6.9138490139314e-310,
            6.9138488213201e-310,
            6.91379342433445e-310,
            6.9138506883507e-310
           ]
          },
          {
           "label": "5",
           "values": [
            -0.0015707015991210938,
            -0.01641845703125,
            0.0230865478515625,
            -0.016571044921875,
            6.9138507389114e-310,
            6.9138506883578e-310,
            6.91379342435817e-310,
            6.91379918614778e-310,
            6.9138488213201e-310
           ]
          },
          {
           "label": "6",
           "values": [
            0.0268096923828125,
            0.052703857421875,
            0.043243408203125,
            0.06817626953125,
            6.91385071097573e-310,
            6.913793422008e-310,
            6.9138483874024e-310,
            6.9138506883507e-310,
            6.91379342435105e-310
           ]
          },
          {
           "label": "7",
           "values": [
            -0.1038818359375,
            -0.123291015625,
            -0.12841796875,
            -0.095947265625,
            6.9138507389114e-310,
            6.9138507795212e-310,
            6.9138506883507e-310,
            6.9137934244815e-310,
            6.9138493128403e-310
           ]
          },
          {
           "label": "8",
           "values": [
            0.024871826171875,
            0.02288818359375,
            0.04962158203125,
            -0.0121002197265625,
            6.9137934218491e-310,
            6.91385068834595e-310,
            6.91379279675804e-310,
            6.913799208889e-310,
            6.9138506883578e-310
           ]
          },
          {
           "label": "9",
           "values": [
            -0.11614990234375,
            -0.11053466796875,
            -0.12213134765625,
            -0.1087646484375,
            6.9138507389509e-310,
            6.9138507795212e-310,
            6.91380399350137e-310,
            6.91385068830563e-310,
            6.91385068840286e-310
           ]
          },
          {
           "label": "10",
           "values": [
            0.0108795166015625,
            0.00707244873046875,
            0.004608154296875,
            -0.015411376953125,
            6.91385068850247e-310,
            6.9138507795212e-310,
            6.9138506883578e-310,
            6.9138483874024e-310,
            6.91385073967344e-310
           ]
          },
          {
           "label": "11",
           "values": [
            0.0270538330078125,
            0.03668212890625,
            0.027557373046875,
            0.0206298828125,
            6.9138507389509e-310,
            6.9138507795212e-310,
            6.9137934238388e-310,
            6.9137927965272e-310,
            6.9138488213201e-310
           ]
          },
          {
           "label": "12",
           "values": [
            0.007717132568359375,
            0.00933074951171875,
            0.0002627372741699219,
            -0.008941650390625,
            6.91385073967344e-310,
            6.9138507795212e-310,
            6.91379857285816e-310,
            6.91379928504944e-310,
            6.9138488213201e-310
           ]
          },
          {
           "label": "13",
           "values": [
            -0.00591278076171875,
            0.016326904296875,
            0.0308837890625,
            -0.034698486328125,
            6.91379949515303e-310,
            6.91379342437714e-310,
            6.91385068830563e-310,
            6.91385068834595e-310,
            6.9138488213201e-310
           ]
          },
          {
           "label": "14",
           "values": [
            0.0232086181640625,
            -0.01541900634765625,
            0.05462646484375,
            -0.00640106201171875,
            6.91379949515303e-310,
            6.9137985726716e-310,
            6.91379857285816e-310,
            6.91385078131487e-310,
            6.9138488213201e-310
           ]
          },
          {
           "label": "15",
           "values": [
            -0.01934814453125,
            0.0049285888671875,
            0.032470703125,
            -0.006076812744140625,
            6.91385074965277e-310,
            6.91385068840286e-310,
            6.91379857285816e-310,
            6.91385073887187e-310,
            6.9138493128403e-310
           ]
          },
          {
           "label": "16",
           "values": [
            -0.061309814453125,
            0.0019159317016601562,
            -0.02313232421875,
            -0.013580322265625,
            6.91385077960343e-310,
            6.9137985726716e-310,
            6.91379857285816e-310,
            6.91385068840286e-310,
            6.9138488213201e-310
           ]
          },
          {
           "label": "17",
           "values": [
            0.0003790855407714844,
            -0.01242828369140625,
            -0.002838134765625,
            -0.045135498046875,
            6.9138507795212e-310,
            6.9138507795212e-310,
            6.91379279664104e-310,
            6.91385073887187e-310,
            6.91385073967344e-310
           ]
          },
          {
           "label": "18",
           "values": [
            -0.0287933349609375,
            -0.0202484130859375,
            0.002471923828125,
            -0.00754547119140625,
            6.91379949515303e-310,
            6.91385073967344e-310,
            6.91379928499806e-310,
            6.91379928499806e-310,
            6.9138507795465e-310
           ]
          },
          {
           "label": "19",
           "values": [
            -0.059600830078125,
            -0.050506591796875,
            -0.0184326171875,
            -0.05841064453125,
            6.91385073967344e-310,
            6.91384974986628e-310,
            6.91385068834595e-310,
            6.91379928504944e-310,
            6.91385068565665e-310
           ]
          },
          {
           "label": "20",
           "values": [
            0.000522613525390625,
            0.005367279052734375,
            0.0634765625,
            -0.037841796875,
            6.9137934217827e-310,
            6.91384974986628e-310,
            6.91379928499806e-310,
            6.91385073967344e-310,
            6.9138507842263e-310
           ]
          },
          {
           "label": "21",
           "values": [
            0.0655517578125,
            0.0136566162109375,
            0.0167236328125,
            0.0013303756713867188,
            6.91379857285816e-310,
            6.91384974986628e-310,
            6.91379928499806e-310,
            6.9138483874024e-310,
            6.91385068565665e-310
           ]
          },
          {
           "label": "22",
           "values": [
            0.00234222412109375,
            0.07159423828125,
            0.032440185546875,
            -0.007480621337890625,
            6.91385068834595e-310,
            6.9138490139314e-310,
            6.91379928499806e-310,
            6.9138483874024e-310,
            6.9138506851033e-310
           ]
          },
          {
           "label": "23",
           "values": [
            -0.013092041015625,
            -0.0136566162109375,
            -0.017913818359375,
            -0.0283660888671875,
            6.91379857285816e-310,
            6.9138507795212e-310,
            6.9137934243463e-310,
            6.9138483874024e-310,
            6.9138506851033e-310
           ]
          },
          {
           "label": "24",
           "values": [
            -0.020294189453125,
            0.03350830078125,
            -0.0022830963134765625,
            0.0157012939453125,
            6.91379857285816e-310,
            6.91384974986628e-310,
            6.9138483874024e-310,
            6.91380399350137e-310,
            6.9138506837278e-310
           ]
          }
         ],
         "domain": {
          "x": [
           0,
           1
          ],
          "y": [
           0,
           1
          ]
         },
         "name": "",
         "type": "parcoords"
        }
       ],
       "layout": {
        "legend": {
         "tracegroupgap": 0
        },
        "margin": {
         "t": 60
        },
        "template": {
         "data": {
          "bar": [
           {
            "error_x": {
             "color": "#2a3f5f"
            },
            "error_y": {
             "color": "#2a3f5f"
            },
            "marker": {
             "line": {
              "color": "#E5ECF6",
              "width": 0.5
             },
             "pattern": {
              "fillmode": "overlay",
              "size": 10,
              "solidity": 0.2
             }
            },
            "type": "bar"
           }
          ],
          "barpolar": [
           {
            "marker": {
             "line": {
              "color": "#E5ECF6",
              "width": 0.5
             },
             "pattern": {
              "fillmode": "overlay",
              "size": 10,
              "solidity": 0.2
             }
            },
            "type": "barpolar"
           }
          ],
          "carpet": [
           {
            "aaxis": {
             "endlinecolor": "#2a3f5f",
             "gridcolor": "white",
             "linecolor": "white",
             "minorgridcolor": "white",
             "startlinecolor": "#2a3f5f"
            },
            "baxis": {
             "endlinecolor": "#2a3f5f",
             "gridcolor": "white",
             "linecolor": "white",
             "minorgridcolor": "white",
             "startlinecolor": "#2a3f5f"
            },
            "type": "carpet"
           }
          ],
          "choropleth": [
           {
            "colorbar": {
             "outlinewidth": 0,
             "ticks": ""
            },
            "type": "choropleth"
           }
          ],
          "contour": [
           {
            "colorbar": {
             "outlinewidth": 0,
             "ticks": ""
            },
            "colorscale": [
             [
              0,
              "#0d0887"
             ],
             [
              0.1111111111111111,
              "#46039f"
             ],
             [
              0.2222222222222222,
              "#7201a8"
             ],
             [
              0.3333333333333333,
              "#9c179e"
             ],
             [
              0.4444444444444444,
              "#bd3786"
             ],
             [
              0.5555555555555556,
              "#d8576b"
             ],
             [
              0.6666666666666666,
              "#ed7953"
             ],
             [
              0.7777777777777778,
              "#fb9f3a"
             ],
             [
              0.8888888888888888,
              "#fdca26"
             ],
             [
              1,
              "#f0f921"
             ]
            ],
            "type": "contour"
           }
          ],
          "contourcarpet": [
           {
            "colorbar": {
             "outlinewidth": 0,
             "ticks": ""
            },
            "type": "contourcarpet"
           }
          ],
          "heatmap": [
           {
            "colorbar": {
             "outlinewidth": 0,
             "ticks": ""
            },
            "colorscale": [
             [
              0,
              "#0d0887"
             ],
             [
              0.1111111111111111,
              "#46039f"
             ],
             [
              0.2222222222222222,
              "#7201a8"
             ],
             [
              0.3333333333333333,
              "#9c179e"
             ],
             [
              0.4444444444444444,
              "#bd3786"
             ],
             [
              0.5555555555555556,
              "#d8576b"
             ],
             [
              0.6666666666666666,
              "#ed7953"
             ],
             [
              0.7777777777777778,
              "#fb9f3a"
             ],
             [
              0.8888888888888888,
              "#fdca26"
             ],
             [
              1,
              "#f0f921"
             ]
            ],
            "type": "heatmap"
           }
          ],
          "heatmapgl": [
           {
            "colorbar": {
             "outlinewidth": 0,
             "ticks": ""
            },
            "colorscale": [
             [
              0,
              "#0d0887"
             ],
             [
              0.1111111111111111,
              "#46039f"
             ],
             [
              0.2222222222222222,
              "#7201a8"
             ],
             [
              0.3333333333333333,
              "#9c179e"
             ],
             [
              0.4444444444444444,
              "#bd3786"
             ],
             [
              0.5555555555555556,
              "#d8576b"
             ],
             [
              0.6666666666666666,
              "#ed7953"
             ],
             [
              0.7777777777777778,
              "#fb9f3a"
             ],
             [
              0.8888888888888888,
              "#fdca26"
             ],
             [
              1,
              "#f0f921"
             ]
            ],
            "type": "heatmapgl"
           }
          ],
          "histogram": [
           {
            "marker": {
             "pattern": {
              "fillmode": "overlay",
              "size": 10,
              "solidity": 0.2
             }
            },
            "type": "histogram"
           }
          ],
          "histogram2d": [
           {
            "colorbar": {
             "outlinewidth": 0,
             "ticks": ""
            },
            "colorscale": [
             [
              0,
              "#0d0887"
             ],
             [
              0.1111111111111111,
              "#46039f"
             ],
             [
              0.2222222222222222,
              "#7201a8"
             ],
             [
              0.3333333333333333,
              "#9c179e"
             ],
             [
              0.4444444444444444,
              "#bd3786"
             ],
             [
              0.5555555555555556,
              "#d8576b"
             ],
             [
              0.6666666666666666,
              "#ed7953"
             ],
             [
              0.7777777777777778,
              "#fb9f3a"
             ],
             [
              0.8888888888888888,
              "#fdca26"
             ],
             [
              1,
              "#f0f921"
             ]
            ],
            "type": "histogram2d"
           }
          ],
          "histogram2dcontour": [
           {
            "colorbar": {
             "outlinewidth": 0,
             "ticks": ""
            },
            "colorscale": [
             [
              0,
              "#0d0887"
             ],
             [
              0.1111111111111111,
              "#46039f"
             ],
             [
              0.2222222222222222,
              "#7201a8"
             ],
             [
              0.3333333333333333,
              "#9c179e"
             ],
             [
              0.4444444444444444,
              "#bd3786"
             ],
             [
              0.5555555555555556,
              "#d8576b"
             ],
             [
              0.6666666666666666,
              "#ed7953"
             ],
             [
              0.7777777777777778,
              "#fb9f3a"
             ],
             [
              0.8888888888888888,
              "#fdca26"
             ],
             [
              1,
              "#f0f921"
             ]
            ],
            "type": "histogram2dcontour"
           }
          ],
          "mesh3d": [
           {
            "colorbar": {
             "outlinewidth": 0,
             "ticks": ""
            },
            "type": "mesh3d"
           }
          ],
          "parcoords": [
           {
            "line": {
             "colorbar": {
              "outlinewidth": 0,
              "ticks": ""
             }
            },
            "type": "parcoords"
           }
          ],
          "pie": [
           {
            "automargin": true,
            "type": "pie"
           }
          ],
          "scatter": [
           {
            "fillpattern": {
             "fillmode": "overlay",
             "size": 10,
             "solidity": 0.2
            },
            "type": "scatter"
           }
          ],
          "scatter3d": [
           {
            "line": {
             "colorbar": {
              "outlinewidth": 0,
              "ticks": ""
             }
            },
            "marker": {
             "colorbar": {
              "outlinewidth": 0,
              "ticks": ""
             }
            },
            "type": "scatter3d"
           }
          ],
          "scattercarpet": [
           {
            "marker": {
             "colorbar": {
              "outlinewidth": 0,
              "ticks": ""
             }
            },
            "type": "scattercarpet"
           }
          ],
          "scattergeo": [
           {
            "marker": {
             "colorbar": {
              "outlinewidth": 0,
              "ticks": ""
             }
            },
            "type": "scattergeo"
           }
          ],
          "scattergl": [
           {
            "marker": {
             "colorbar": {
              "outlinewidth": 0,
              "ticks": ""
             }
            },
            "type": "scattergl"
           }
          ],
          "scattermapbox": [
           {
            "marker": {
             "colorbar": {
              "outlinewidth": 0,
              "ticks": ""
             }
            },
            "type": "scattermapbox"
           }
          ],
          "scatterpolar": [
           {
            "marker": {
             "colorbar": {
              "outlinewidth": 0,
              "ticks": ""
             }
            },
            "type": "scatterpolar"
           }
          ],
          "scatterpolargl": [
           {
            "marker": {
             "colorbar": {
              "outlinewidth": 0,
              "ticks": ""
             }
            },
            "type": "scatterpolargl"
           }
          ],
          "scatterternary": [
           {
            "marker": {
             "colorbar": {
              "outlinewidth": 0,
              "ticks": ""
             }
            },
            "type": "scatterternary"
           }
          ],
          "surface": [
           {
            "colorbar": {
             "outlinewidth": 0,
             "ticks": ""
            },
            "colorscale": [
             [
              0,
              "#0d0887"
             ],
             [
              0.1111111111111111,
              "#46039f"
             ],
             [
              0.2222222222222222,
              "#7201a8"
             ],
             [
              0.3333333333333333,
              "#9c179e"
             ],
             [
              0.4444444444444444,
              "#bd3786"
             ],
             [
              0.5555555555555556,
              "#d8576b"
             ],
             [
              0.6666666666666666,
              "#ed7953"
             ],
             [
              0.7777777777777778,
              "#fb9f3a"
             ],
             [
              0.8888888888888888,
              "#fdca26"
             ],
             [
              1,
              "#f0f921"
             ]
            ],
            "type": "surface"
           }
          ],
          "table": [
           {
            "cells": {
             "fill": {
              "color": "#EBF0F8"
             },
             "line": {
              "color": "white"
             }
            },
            "header": {
             "fill": {
              "color": "#C8D4E3"
             },
             "line": {
              "color": "white"
             }
            },
            "type": "table"
           }
          ]
         },
         "layout": {
          "annotationdefaults": {
           "arrowcolor": "#2a3f5f",
           "arrowhead": 0,
           "arrowwidth": 1
          },
          "autotypenumbers": "strict",
          "coloraxis": {
           "colorbar": {
            "outlinewidth": 0,
            "ticks": ""
           }
          },
          "colorscale": {
           "diverging": [
            [
             0,
             "#8e0152"
            ],
            [
             0.1,
             "#c51b7d"
            ],
            [
             0.2,
             "#de77ae"
            ],
            [
             0.3,
             "#f1b6da"
            ],
            [
             0.4,
             "#fde0ef"
            ],
            [
             0.5,
             "#f7f7f7"
            ],
            [
             0.6,
             "#e6f5d0"
            ],
            [
             0.7,
             "#b8e186"
            ],
            [
             0.8,
             "#7fbc41"
            ],
            [
             0.9,
             "#4d9221"
            ],
            [
             1,
             "#276419"
            ]
           ],
           "sequential": [
            [
             0,
             "#0d0887"
            ],
            [
             0.1111111111111111,
             "#46039f"
            ],
            [
             0.2222222222222222,
             "#7201a8"
            ],
            [
             0.3333333333333333,
             "#9c179e"
            ],
            [
             0.4444444444444444,
             "#bd3786"
            ],
            [
             0.5555555555555556,
             "#d8576b"
            ],
            [
             0.6666666666666666,
             "#ed7953"
            ],
            [
             0.7777777777777778,
             "#fb9f3a"
            ],
            [
             0.8888888888888888,
             "#fdca26"
            ],
            [
             1,
             "#f0f921"
            ]
           ],
           "sequentialminus": [
            [
             0,
             "#0d0887"
            ],
            [
             0.1111111111111111,
             "#46039f"
            ],
            [
             0.2222222222222222,
             "#7201a8"
            ],
            [
             0.3333333333333333,
             "#9c179e"
            ],
            [
             0.4444444444444444,
             "#bd3786"
            ],
            [
             0.5555555555555556,
             "#d8576b"
            ],
            [
             0.6666666666666666,
             "#ed7953"
            ],
            [
             0.7777777777777778,
             "#fb9f3a"
            ],
            [
             0.8888888888888888,
             "#fdca26"
            ],
            [
             1,
             "#f0f921"
            ]
           ]
          },
          "colorway": [
           "#636efa",
           "#EF553B",
           "#00cc96",
           "#ab63fa",
           "#FFA15A",
           "#19d3f3",
           "#FF6692",
           "#B6E880",
           "#FF97FF",
           "#FECB52"
          ],
          "font": {
           "color": "#2a3f5f"
          },
          "geo": {
           "bgcolor": "white",
           "lakecolor": "white",
           "landcolor": "#E5ECF6",
           "showlakes": true,
           "showland": true,
           "subunitcolor": "white"
          },
          "hoverlabel": {
           "align": "left"
          },
          "hovermode": "closest",
          "mapbox": {
           "style": "light"
          },
          "paper_bgcolor": "white",
          "plot_bgcolor": "#E5ECF6",
          "polar": {
           "angularaxis": {
            "gridcolor": "white",
            "linecolor": "white",
            "ticks": ""
           },
           "bgcolor": "#E5ECF6",
           "radialaxis": {
            "gridcolor": "white",
            "linecolor": "white",
            "ticks": ""
           }
          },
          "scene": {
           "xaxis": {
            "backgroundcolor": "#E5ECF6",
            "gridcolor": "white",
            "gridwidth": 2,
            "linecolor": "white",
            "showbackground": true,
            "ticks": "",
            "zerolinecolor": "white"
           },
           "yaxis": {
            "backgroundcolor": "#E5ECF6",
            "gridcolor": "white",
            "gridwidth": 2,
            "linecolor": "white",
            "showbackground": true,
            "ticks": "",
            "zerolinecolor": "white"
           },
           "zaxis": {
            "backgroundcolor": "#E5ECF6",
            "gridcolor": "white",
            "gridwidth": 2,
            "linecolor": "white",
            "showbackground": true,
            "ticks": "",
            "zerolinecolor": "white"
           }
          },
          "shapedefaults": {
           "line": {
            "color": "#2a3f5f"
           }
          },
          "ternary": {
           "aaxis": {
            "gridcolor": "white",
            "linecolor": "white",
            "ticks": ""
           },
           "baxis": {
            "gridcolor": "white",
            "linecolor": "white",
            "ticks": ""
           },
           "bgcolor": "#E5ECF6",
           "caxis": {
            "gridcolor": "white",
            "linecolor": "white",
            "ticks": ""
           }
          },
          "title": {
           "x": 0.05
          },
          "xaxis": {
           "automargin": true,
           "gridcolor": "white",
           "linecolor": "white",
           "ticks": "",
           "title": {
            "standoff": 15
           },
           "zerolinecolor": "white",
           "zerolinewidth": 2
          },
          "yaxis": {
           "automargin": true,
           "gridcolor": "white",
           "linecolor": "white",
           "ticks": "",
           "title": {
            "standoff": 15
           },
           "zerolinecolor": "white",
           "zerolinewidth": 2
          }
         }
        }
       }
      },
      "text/html": [
       "<div>                            <div id=\"e0f57980-3fed-4eed-9d36-5e189a428a40\" class=\"plotly-graph-div\" style=\"height:525px; width:100%;\"></div>            <script type=\"text/javascript\">                require([\"plotly\"], function(Plotly) {                    window.PLOTLYENV=window.PLOTLYENV || {};                                    if (document.getElementById(\"e0f57980-3fed-4eed-9d36-5e189a428a40\")) {                    Plotly.newPlot(                        \"e0f57980-3fed-4eed-9d36-5e189a428a40\",                        [{\"dimensions\":[{\"label\":\"0\",\"values\":[0.01654052734375,-0.015411376953125,-0.01355743408203125,-0.033294677734375,6.9138506883507e-310,6.91379342182064e-310,6.91379342441745e-310,6.9138506883507e-310,6.91379857285816e-310]},{\"label\":\"1\",\"values\":[-0.0254669189453125,-0.020721435546875,0.035919189453125,0.0285186767578125,6.91379342185147e-310,6.91384974986628e-310,6.9138488213201e-310,6.9137934243368e-310,6.9138483874024e-310]},{\"label\":\"2\",\"values\":[-0.043426513671875,-0.009429931640625,0.0248565673828125,-0.051788330078125,6.9138507795212e-310,6.9138506883507e-310,6.91385068834595e-310,6.9138498302638e-310,6.9137934244957e-310]},{\"label\":\"3\",\"values\":[-0.045684814453125,-0.048828125,-0.038604736328125,-0.00415802001953125,6.9138506884977e-310,6.91379342186096e-310,6.9138488213201e-310,6.9138506883507e-310,6.9138488213201e-310]},{\"label\":\"4\",\"values\":[0.036041259765625,0.01280975341796875,-0.009368896484375,0.0212554931640625,6.91379342192736e-310,6.9138490139314e-310,6.9138488213201e-310,6.91379342433445e-310,6.9138506883507e-310]},{\"label\":\"5\",\"values\":[-0.0015707015991210938,-0.01641845703125,0.0230865478515625,-0.016571044921875,6.9138507389114e-310,6.9138506883578e-310,6.91379342435817e-310,6.91379918614778e-310,6.9138488213201e-310]},{\"label\":\"6\",\"values\":[0.0268096923828125,0.052703857421875,0.043243408203125,0.06817626953125,6.91385071097573e-310,6.913793422008e-310,6.9138483874024e-310,6.9138506883507e-310,6.91379342435105e-310]},{\"label\":\"7\",\"values\":[-0.1038818359375,-0.123291015625,-0.12841796875,-0.095947265625,6.9138507389114e-310,6.9138507795212e-310,6.9138506883507e-310,6.9137934244815e-310,6.9138493128403e-310]},{\"label\":\"8\",\"values\":[0.024871826171875,0.02288818359375,0.04962158203125,-0.0121002197265625,6.9137934218491e-310,6.91385068834595e-310,6.91379279675804e-310,6.913799208889e-310,6.9138506883578e-310]},{\"label\":\"9\",\"values\":[-0.11614990234375,-0.11053466796875,-0.12213134765625,-0.1087646484375,6.9138507389509e-310,6.9138507795212e-310,6.91380399350137e-310,6.91385068830563e-310,6.91385068840286e-310]},{\"label\":\"10\",\"values\":[0.0108795166015625,0.00707244873046875,0.004608154296875,-0.015411376953125,6.91385068850247e-310,6.9138507795212e-310,6.9138506883578e-310,6.9138483874024e-310,6.91385073967344e-310]},{\"label\":\"11\",\"values\":[0.0270538330078125,0.03668212890625,0.027557373046875,0.0206298828125,6.9138507389509e-310,6.9138507795212e-310,6.9137934238388e-310,6.9137927965272e-310,6.9138488213201e-310]},{\"label\":\"12\",\"values\":[0.007717132568359375,0.00933074951171875,0.0002627372741699219,-0.008941650390625,6.91385073967344e-310,6.9138507795212e-310,6.91379857285816e-310,6.91379928504944e-310,6.9138488213201e-310]},{\"label\":\"13\",\"values\":[-0.00591278076171875,0.016326904296875,0.0308837890625,-0.034698486328125,6.91379949515303e-310,6.91379342437714e-310,6.91385068830563e-310,6.91385068834595e-310,6.9138488213201e-310]},{\"label\":\"14\",\"values\":[0.0232086181640625,-0.01541900634765625,0.05462646484375,-0.00640106201171875,6.91379949515303e-310,6.9137985726716e-310,6.91379857285816e-310,6.91385078131487e-310,6.9138488213201e-310]},{\"label\":\"15\",\"values\":[-0.01934814453125,0.0049285888671875,0.032470703125,-0.006076812744140625,6.91385074965277e-310,6.91385068840286e-310,6.91379857285816e-310,6.91385073887187e-310,6.9138493128403e-310]},{\"label\":\"16\",\"values\":[-0.061309814453125,0.0019159317016601562,-0.02313232421875,-0.013580322265625,6.91385077960343e-310,6.9137985726716e-310,6.91379857285816e-310,6.91385068840286e-310,6.9138488213201e-310]},{\"label\":\"17\",\"values\":[0.0003790855407714844,-0.01242828369140625,-0.002838134765625,-0.045135498046875,6.9138507795212e-310,6.9138507795212e-310,6.91379279664104e-310,6.91385073887187e-310,6.91385073967344e-310]},{\"label\":\"18\",\"values\":[-0.0287933349609375,-0.0202484130859375,0.002471923828125,-0.00754547119140625,6.91379949515303e-310,6.91385073967344e-310,6.91379928499806e-310,6.91379928499806e-310,6.9138507795465e-310]},{\"label\":\"19\",\"values\":[-0.059600830078125,-0.050506591796875,-0.0184326171875,-0.05841064453125,6.91385073967344e-310,6.91384974986628e-310,6.91385068834595e-310,6.91379928504944e-310,6.91385068565665e-310]},{\"label\":\"20\",\"values\":[0.000522613525390625,0.005367279052734375,0.0634765625,-0.037841796875,6.9137934217827e-310,6.91384974986628e-310,6.91379928499806e-310,6.91385073967344e-310,6.9138507842263e-310]},{\"label\":\"21\",\"values\":[0.0655517578125,0.0136566162109375,0.0167236328125,0.0013303756713867188,6.91379857285816e-310,6.91384974986628e-310,6.91379928499806e-310,6.9138483874024e-310,6.91385068565665e-310]},{\"label\":\"22\",\"values\":[0.00234222412109375,0.07159423828125,0.032440185546875,-0.007480621337890625,6.91385068834595e-310,6.9138490139314e-310,6.91379928499806e-310,6.9138483874024e-310,6.9138506851033e-310]},{\"label\":\"23\",\"values\":[-0.013092041015625,-0.0136566162109375,-0.017913818359375,-0.0283660888671875,6.91379857285816e-310,6.9138507795212e-310,6.9137934243463e-310,6.9138483874024e-310,6.9138506851033e-310]},{\"label\":\"24\",\"values\":[-0.020294189453125,0.03350830078125,-0.0022830963134765625,0.0157012939453125,6.91379857285816e-310,6.91384974986628e-310,6.9138483874024e-310,6.91380399350137e-310,6.9138506837278e-310]}],\"domain\":{\"x\":[0.0,1.0],\"y\":[0.0,1.0]},\"name\":\"\",\"type\":\"parcoords\"}],                        {\"template\":{\"data\":{\"histogram2dcontour\":[{\"type\":\"histogram2dcontour\",\"colorbar\":{\"outlinewidth\":0,\"ticks\":\"\"},\"colorscale\":[[0.0,\"#0d0887\"],[0.1111111111111111,\"#46039f\"],[0.2222222222222222,\"#7201a8\"],[0.3333333333333333,\"#9c179e\"],[0.4444444444444444,\"#bd3786\"],[0.5555555555555556,\"#d8576b\"],[0.6666666666666666,\"#ed7953\"],[0.7777777777777778,\"#fb9f3a\"],[0.8888888888888888,\"#fdca26\"],[1.0,\"#f0f921\"]]}],\"choropleth\":[{\"type\":\"choropleth\",\"colorbar\":{\"outlinewidth\":0,\"ticks\":\"\"}}],\"histogram2d\":[{\"type\":\"histogram2d\",\"colorbar\":{\"outlinewidth\":0,\"ticks\":\"\"},\"colorscale\":[[0.0,\"#0d0887\"],[0.1111111111111111,\"#46039f\"],[0.2222222222222222,\"#7201a8\"],[0.3333333333333333,\"#9c179e\"],[0.4444444444444444,\"#bd3786\"],[0.5555555555555556,\"#d8576b\"],[0.6666666666666666,\"#ed7953\"],[0.7777777777777778,\"#fb9f3a\"],[0.8888888888888888,\"#fdca26\"],[1.0,\"#f0f921\"]]}],\"heatmap\":[{\"type\":\"heatmap\",\"colorbar\":{\"outlinewidth\":0,\"ticks\":\"\"},\"colorscale\":[[0.0,\"#0d0887\"],[0.1111111111111111,\"#46039f\"],[0.2222222222222222,\"#7201a8\"],[0.3333333333333333,\"#9c179e\"],[0.4444444444444444,\"#bd3786\"],[0.5555555555555556,\"#d8576b\"],[0.6666666666666666,\"#ed7953\"],[0.7777777777777778,\"#fb9f3a\"],[0.8888888888888888,\"#fdca26\"],[1.0,\"#f0f921\"]]}],\"heatmapgl\":[{\"type\":\"heatmapgl\",\"colorbar\":{\"outlinewidth\":0,\"ticks\":\"\"},\"colorscale\":[[0.0,\"#0d0887\"],[0.1111111111111111,\"#46039f\"],[0.2222222222222222,\"#7201a8\"],[0.3333333333333333,\"#9c179e\"],[0.4444444444444444,\"#bd3786\"],[0.5555555555555556,\"#d8576b\"],[0.6666666666666666,\"#ed7953\"],[0.7777777777777778,\"#fb9f3a\"],[0.8888888888888888,\"#fdca26\"],[1.0,\"#f0f921\"]]}],\"contourcarpet\":[{\"type\":\"contourcarpet\",\"colorbar\":{\"outlinewidth\":0,\"ticks\":\"\"}}],\"contour\":[{\"type\":\"contour\",\"colorbar\":{\"outlinewidth\":0,\"ticks\":\"\"},\"colorscale\":[[0.0,\"#0d0887\"],[0.1111111111111111,\"#46039f\"],[0.2222222222222222,\"#7201a8\"],[0.3333333333333333,\"#9c179e\"],[0.4444444444444444,\"#bd3786\"],[0.5555555555555556,\"#d8576b\"],[0.6666666666666666,\"#ed7953\"],[0.7777777777777778,\"#fb9f3a\"],[0.8888888888888888,\"#fdca26\"],[1.0,\"#f0f921\"]]}],\"surface\":[{\"type\":\"surface\",\"colorbar\":{\"outlinewidth\":0,\"ticks\":\"\"},\"colorscale\":[[0.0,\"#0d0887\"],[0.1111111111111111,\"#46039f\"],[0.2222222222222222,\"#7201a8\"],[0.3333333333333333,\"#9c179e\"],[0.4444444444444444,\"#bd3786\"],[0.5555555555555556,\"#d8576b\"],[0.6666666666666666,\"#ed7953\"],[0.7777777777777778,\"#fb9f3a\"],[0.8888888888888888,\"#fdca26\"],[1.0,\"#f0f921\"]]}],\"mesh3d\":[{\"type\":\"mesh3d\",\"colorbar\":{\"outlinewidth\":0,\"ticks\":\"\"}}],\"scatter\":[{\"fillpattern\":{\"fillmode\":\"overlay\",\"size\":10,\"solidity\":0.2},\"type\":\"scatter\"}],\"parcoords\":[{\"type\":\"parcoords\",\"line\":{\"colorbar\":{\"outlinewidth\":0,\"ticks\":\"\"}}}],\"scatterpolargl\":[{\"type\":\"scatterpolargl\",\"marker\":{\"colorbar\":{\"outlinewidth\":0,\"ticks\":\"\"}}}],\"bar\":[{\"error_x\":{\"color\":\"#2a3f5f\"},\"error_y\":{\"color\":\"#2a3f5f\"},\"marker\":{\"line\":{\"color\":\"#E5ECF6\",\"width\":0.5},\"pattern\":{\"fillmode\":\"overlay\",\"size\":10,\"solidity\":0.2}},\"type\":\"bar\"}],\"scattergeo\":[{\"type\":\"scattergeo\",\"marker\":{\"colorbar\":{\"outlinewidth\":0,\"ticks\":\"\"}}}],\"scatterpolar\":[{\"type\":\"scatterpolar\",\"marker\":{\"colorbar\":{\"outlinewidth\":0,\"ticks\":\"\"}}}],\"histogram\":[{\"marker\":{\"pattern\":{\"fillmode\":\"overlay\",\"size\":10,\"solidity\":0.2}},\"type\":\"histogram\"}],\"scattergl\":[{\"type\":\"scattergl\",\"marker\":{\"colorbar\":{\"outlinewidth\":0,\"ticks\":\"\"}}}],\"scatter3d\":[{\"type\":\"scatter3d\",\"line\":{\"colorbar\":{\"outlinewidth\":0,\"ticks\":\"\"}},\"marker\":{\"colorbar\":{\"outlinewidth\":0,\"ticks\":\"\"}}}],\"scattermapbox\":[{\"type\":\"scattermapbox\",\"marker\":{\"colorbar\":{\"outlinewidth\":0,\"ticks\":\"\"}}}],\"scatterternary\":[{\"type\":\"scatterternary\",\"marker\":{\"colorbar\":{\"outlinewidth\":0,\"ticks\":\"\"}}}],\"scattercarpet\":[{\"type\":\"scattercarpet\",\"marker\":{\"colorbar\":{\"outlinewidth\":0,\"ticks\":\"\"}}}],\"carpet\":[{\"aaxis\":{\"endlinecolor\":\"#2a3f5f\",\"gridcolor\":\"white\",\"linecolor\":\"white\",\"minorgridcolor\":\"white\",\"startlinecolor\":\"#2a3f5f\"},\"baxis\":{\"endlinecolor\":\"#2a3f5f\",\"gridcolor\":\"white\",\"linecolor\":\"white\",\"minorgridcolor\":\"white\",\"startlinecolor\":\"#2a3f5f\"},\"type\":\"carpet\"}],\"table\":[{\"cells\":{\"fill\":{\"color\":\"#EBF0F8\"},\"line\":{\"color\":\"white\"}},\"header\":{\"fill\":{\"color\":\"#C8D4E3\"},\"line\":{\"color\":\"white\"}},\"type\":\"table\"}],\"barpolar\":[{\"marker\":{\"line\":{\"color\":\"#E5ECF6\",\"width\":0.5},\"pattern\":{\"fillmode\":\"overlay\",\"size\":10,\"solidity\":0.2}},\"type\":\"barpolar\"}],\"pie\":[{\"automargin\":true,\"type\":\"pie\"}]},\"layout\":{\"autotypenumbers\":\"strict\",\"colorway\":[\"#636efa\",\"#EF553B\",\"#00cc96\",\"#ab63fa\",\"#FFA15A\",\"#19d3f3\",\"#FF6692\",\"#B6E880\",\"#FF97FF\",\"#FECB52\"],\"font\":{\"color\":\"#2a3f5f\"},\"hovermode\":\"closest\",\"hoverlabel\":{\"align\":\"left\"},\"paper_bgcolor\":\"white\",\"plot_bgcolor\":\"#E5ECF6\",\"polar\":{\"bgcolor\":\"#E5ECF6\",\"angularaxis\":{\"gridcolor\":\"white\",\"linecolor\":\"white\",\"ticks\":\"\"},\"radialaxis\":{\"gridcolor\":\"white\",\"linecolor\":\"white\",\"ticks\":\"\"}},\"ternary\":{\"bgcolor\":\"#E5ECF6\",\"aaxis\":{\"gridcolor\":\"white\",\"linecolor\":\"white\",\"ticks\":\"\"},\"baxis\":{\"gridcolor\":\"white\",\"linecolor\":\"white\",\"ticks\":\"\"},\"caxis\":{\"gridcolor\":\"white\",\"linecolor\":\"white\",\"ticks\":\"\"}},\"coloraxis\":{\"colorbar\":{\"outlinewidth\":0,\"ticks\":\"\"}},\"colorscale\":{\"sequential\":[[0.0,\"#0d0887\"],[0.1111111111111111,\"#46039f\"],[0.2222222222222222,\"#7201a8\"],[0.3333333333333333,\"#9c179e\"],[0.4444444444444444,\"#bd3786\"],[0.5555555555555556,\"#d8576b\"],[0.6666666666666666,\"#ed7953\"],[0.7777777777777778,\"#fb9f3a\"],[0.8888888888888888,\"#fdca26\"],[1.0,\"#f0f921\"]],\"sequentialminus\":[[0.0,\"#0d0887\"],[0.1111111111111111,\"#46039f\"],[0.2222222222222222,\"#7201a8\"],[0.3333333333333333,\"#9c179e\"],[0.4444444444444444,\"#bd3786\"],[0.5555555555555556,\"#d8576b\"],[0.6666666666666666,\"#ed7953\"],[0.7777777777777778,\"#fb9f3a\"],[0.8888888888888888,\"#fdca26\"],[1.0,\"#f0f921\"]],\"diverging\":[[0,\"#8e0152\"],[0.1,\"#c51b7d\"],[0.2,\"#de77ae\"],[0.3,\"#f1b6da\"],[0.4,\"#fde0ef\"],[0.5,\"#f7f7f7\"],[0.6,\"#e6f5d0\"],[0.7,\"#b8e186\"],[0.8,\"#7fbc41\"],[0.9,\"#4d9221\"],[1,\"#276419\"]]},\"xaxis\":{\"gridcolor\":\"white\",\"linecolor\":\"white\",\"ticks\":\"\",\"title\":{\"standoff\":15},\"zerolinecolor\":\"white\",\"automargin\":true,\"zerolinewidth\":2},\"yaxis\":{\"gridcolor\":\"white\",\"linecolor\":\"white\",\"ticks\":\"\",\"title\":{\"standoff\":15},\"zerolinecolor\":\"white\",\"automargin\":true,\"zerolinewidth\":2},\"scene\":{\"xaxis\":{\"backgroundcolor\":\"#E5ECF6\",\"gridcolor\":\"white\",\"linecolor\":\"white\",\"showbackground\":true,\"ticks\":\"\",\"zerolinecolor\":\"white\",\"gridwidth\":2},\"yaxis\":{\"backgroundcolor\":\"#E5ECF6\",\"gridcolor\":\"white\",\"linecolor\":\"white\",\"showbackground\":true,\"ticks\":\"\",\"zerolinecolor\":\"white\",\"gridwidth\":2},\"zaxis\":{\"backgroundcolor\":\"#E5ECF6\",\"gridcolor\":\"white\",\"linecolor\":\"white\",\"showbackground\":true,\"ticks\":\"\",\"zerolinecolor\":\"white\",\"gridwidth\":2}},\"shapedefaults\":{\"line\":{\"color\":\"#2a3f5f\"}},\"annotationdefaults\":{\"arrowcolor\":\"#2a3f5f\",\"arrowhead\":0,\"arrowwidth\":1},\"geo\":{\"bgcolor\":\"white\",\"landcolor\":\"#E5ECF6\",\"subunitcolor\":\"white\",\"showland\":true,\"showlakes\":true,\"lakecolor\":\"white\"},\"title\":{\"x\":0.05},\"mapbox\":{\"style\":\"light\"}}},\"legend\":{\"tracegroupgap\":0},\"margin\":{\"t\":60}},                        {\"responsive\": true}                    ).then(function(){\n",
       "                            \n",
       "var gd = document.getElementById('e0f57980-3fed-4eed-9d36-5e189a428a40');\n",
       "var x = new MutationObserver(function (mutations, observer) {{\n",
       "        var display = window.getComputedStyle(gd).display;\n",
       "        if (!display || display === 'none') {{\n",
       "            console.log([gd, 'removed!']);\n",
       "            Plotly.purge(gd);\n",
       "            observer.disconnect();\n",
       "        }}\n",
       "}});\n",
       "\n",
       "// Listen for the removal of the full notebook cells\n",
       "var notebookContainer = gd.closest('#notebook-container');\n",
       "if (notebookContainer) {{\n",
       "    x.observe(notebookContainer, {childList: true});\n",
       "}}\n",
       "\n",
       "// Listen for the clearing of the current output cell\n",
       "var outputEl = gd.closest('.output');\n",
       "if (outputEl) {{\n",
       "    x.observe(outputEl, {childList: true});\n",
       "}}\n",
       "\n",
       "                        })                };                });            </script>        </div>"
      ]
     },
     "metadata": {},
     "output_type": "display_data"
    }
   ],
   "source": [
    "# Use parallax for justifying the use of clustering or PCA/LDA\n",
    "batchMatrix = np.empty((len(batch_01.items), 25))\n",
    "\n",
    "for i in range(len(batch_01.items) - 5 ):\n",
    "    batchMatrix[i,:] = batch_01.items[i].data[25:50]\n",
    "\n",
    "batchDF = pd.DataFrame(data = batchMatrix)\n",
    "fig = px.parallel_coordinates(batchDF,color_continuous_scale=px.colors.diverging.Tealrose,\n",
    "                              color_continuous_midpoint=0)\n",
    "fig.show()"
   ]
  },
  {
   "cell_type": "code",
   "execution_count": null,
   "metadata": {},
   "outputs": [],
   "source": []
  }
 ],
 "metadata": {
  "kernelspec": {
   "display_name": "Python 3",
   "language": "python",
   "name": "python3"
  },
  "language_info": {
   "codemirror_mode": {
    "name": "ipython",
    "version": 3
   },
   "file_extension": ".py",
   "mimetype": "text/x-python",
   "name": "python",
   "nbconvert_exporter": "python",
   "pygments_lexer": "ipython3",
   "version": "3.10.6 (main, Nov 14 2022, 16:10:14) [GCC 11.3.0]"
  },
  "orig_nbformat": 4,
  "vscode": {
   "interpreter": {
    "hash": "31f2aee4e71d21fbe5cf8b01ff0e069b9275f58929596ceb00d14d90e3e16cd6"
   }
  }
 },
 "nbformat": 4,
 "nbformat_minor": 2
}
