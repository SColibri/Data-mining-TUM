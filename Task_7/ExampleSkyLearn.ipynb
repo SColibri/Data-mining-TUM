{
 "cells": [
  {
   "cell_type": "code",
   "execution_count": 1,
   "metadata": {},
   "outputs": [],
   "source": [
    "import pandas as pd\n",
    "import numpy as np\n",
    "import matplotlib.pyplot as plt\n",
    "from mpl_toolkits.mplot3d import Axes3D\n",
    "from sklearn import datasets\n",
    "from sklearn.decomposition import PCA\n",
    "#example from: https://towardsdatascience.com/k-medoids-clustering-on-iris-data-set-1931bf781e05"
   ]
  },
  {
   "cell_type": "code",
   "execution_count": 2,
   "metadata": {},
   "outputs": [],
   "source": [
    "# Dataset\n",
    "iris = datasets.load_iris()\n",
    "data = pd.DataFrame(iris.data,columns = iris.feature_names)\n",
    "\n",
    "target = iris.target_names\n",
    "labels = iris.target"
   ]
  },
  {
   "cell_type": "code",
   "execution_count": 3,
   "metadata": {},
   "outputs": [],
   "source": [
    "#Scaling\n",
    "from sklearn.preprocessing import MinMaxScaler\n",
    "scaler = MinMaxScaler()\n",
    "data = pd.DataFrame(scaler.fit_transform(data), columns=data.columns)"
   ]
  },
  {
   "cell_type": "code",
   "execution_count": 7,
   "metadata": {},
   "outputs": [],
   "source": [
    "#PCA Transformation\n",
    "from sklearn.decomposition import PCA\n",
    "pca = PCA(n_components=3)\n",
    "principalComponents = pca.fit_transform(data)\n",
    "PCAdf = pd.DataFrame(data = principalComponents , columns = ['principal component 1', 'principal component 2','principal component 3'])\n",
    "\n",
    "datapoints = PCAdf.values\n",
    "m, f = datapoints.shape\n",
    "k = 3"
   ]
  },
  {
   "cell_type": "code",
   "execution_count": 8,
   "metadata": {},
   "outputs": [
    {
     "name": "stdout",
     "output_type": "stream",
     "text": [
      "     principal component 1  principal component 2  principal component 3\n",
      "0                 1.374672               0.073924              -0.051302\n",
      "1                 1.368233              -0.112474               0.048166\n",
      "2                 1.390073              -0.083466              -0.007712\n",
      "3                 1.382367              -0.123647               0.025923\n",
      "4                 1.383210               0.089977              -0.075359\n",
      "..                     ...                    ...                    ...\n",
      "145              -0.943706               0.130284               0.106490\n",
      "146              -0.881950              -0.137074               0.084848\n",
      "147              -0.897115               0.066629               0.025814\n",
      "148              -0.913898               0.185529               0.022812\n",
      "149              -0.837122              -0.049661              -0.049612\n",
      "\n",
      "[150 rows x 3 columns]\n"
     ]
    }
   ],
   "source": [
    "print(PCAdf)"
   ]
  },
  {
   "cell_type": "code",
   "execution_count": 9,
   "metadata": {},
   "outputs": [
    {
     "name": "stderr",
     "output_type": "stream",
     "text": [
      "/tmp/ipykernel_2654905/635817215.py:9: MatplotlibDeprecationWarning: The w_xaxis attribute was deprecated in Matplotlib 3.1 and will be removed in 3.8. Use xaxis instead.\n",
      "  ax.w_xaxis.set_ticklabels([])\n"
     ]
    },
    {
     "data": {
      "text/plain": [
       "<Figure size 800x800 with 0 Axes>"
      ]
     },
     "metadata": {},
     "output_type": "display_data"
    },
    {
     "name": "stdout",
     "output_type": "stream",
     "text": [
      "150 matches out of 150 data points (~ 100.0%)\n"
     ]
    }
   ],
   "source": [
    "#Visualization\n",
    "fig = plt.figure(1, figsize=(8, 8))\n",
    "ax = Axes3D(fig, elev=-150, azim=110)\n",
    "X_reduced = datapoints\n",
    "ax.scatter(X_reduced[:, 0], X_reduced[:, 1], X_reduced[:, 2], c=labels,\n",
    "           cmap=plt.cm.Set1, edgecolor='k', s=40)\n",
    "ax.set_title(\"First three PCA directions\")\n",
    "ax.set_xlabel(\"principal component 1\")\n",
    "ax.w_xaxis.set_ticklabels([])\n",
    "ax.set_ylabel(\"principal component 1\")\n",
    "ax.yaxis.set_ticklabels([])\n",
    "ax.set_zlabel(\"principal component 1\")\n",
    "ax.zaxis.set_ticklabels([])\n",
    "plt.show()\n",
    "\n",
    "def init_medoids(X, k):\n",
    "    from numpy.random import choice\n",
    "    from numpy.random import seed\n",
    " \n",
    "    seed(1)\n",
    "    samples = choice(len(X), size=k, replace=False)\n",
    "    return X[samples, :]\n",
    "\n",
    "medoids_initial = init_medoids(datapoints, 3)\n",
    "\n",
    "def compute_d_p(X, medoids, p):\n",
    "    m = len(X)\n",
    "    medoids_shape = medoids.shape\n",
    "    # If a 1-D array is provided, \n",
    "    # it will be reshaped to a single row 2-D array\n",
    "    if len(medoids_shape) == 1: \n",
    "        medoids = medoids.reshape((1,len(medoids)))\n",
    "    k = len(medoids)\n",
    "    \n",
    "    S = np.empty((m, k))\n",
    "    \n",
    "    for i in range(m):\n",
    "        d_i = np.linalg.norm(X[i, :] - medoids, ord=p, axis=1)\n",
    "        S[i, :] = d_i**p\n",
    "\n",
    "    return S\n",
    "  \n",
    "S = compute_d_p(datapoints, medoids_initial, 2)\n",
    "\n",
    "\n",
    "def assign_labels(S):\n",
    "    return np.argmin(S, axis=1)\n",
    "  \n",
    "labels = assign_labels(S)\n",
    "\n",
    "def update_medoids(X, medoids, p):\n",
    "    \n",
    "    S = compute_d_p(datapoints, medoids, p)\n",
    "    labels = assign_labels(S)\n",
    "        \n",
    "    out_medoids = medoids\n",
    "                \n",
    "    for i in set(labels):\n",
    "        \n",
    "        avg_dissimilarity = np.sum(compute_d_p(datapoints, medoids[i], p))\n",
    "\n",
    "        cluster_points = datapoints[labels == i]\n",
    "        \n",
    "        for datap in cluster_points:\n",
    "            new_medoid = datap\n",
    "            new_dissimilarity= np.sum(compute_d_p(datapoints, datap, p))\n",
    "            \n",
    "            if new_dissimilarity < avg_dissimilarity :\n",
    "                avg_dissimilarity = new_dissimilarity\n",
    "                \n",
    "                out_medoids[i] = datap\n",
    "                \n",
    "    return out_medoids\n",
    "\n",
    "def has_converged(old_medoids, medoids):\n",
    "    return set([tuple(x) for x in old_medoids]) == set([tuple(x) for x in medoids])\n",
    "  \n",
    "#Full algorithm\n",
    "def kmedoids(X, k, p, starting_medoids=None, max_steps=np.inf):\n",
    "    if starting_medoids is None:\n",
    "        medoids = init_medoids(X, k)\n",
    "    else:\n",
    "        medoids = starting_medoids\n",
    "        \n",
    "    converged = False\n",
    "    labels = np.zeros(len(X))\n",
    "    i = 1\n",
    "    while (not converged) and (i <= max_steps):\n",
    "        old_medoids = medoids.copy()\n",
    "        \n",
    "        S = compute_d_p(X, medoids, p)\n",
    "        \n",
    "        labels = assign_labels(S)\n",
    "        \n",
    "        medoids = update_medoids(X, medoids, p)\n",
    "        \n",
    "        converged = has_converged(old_medoids, medoids)\n",
    "        i += 1\n",
    "    return (medoids,labels)\n",
    "\n",
    "results = kmedoids(datapoints, 3, 2)\n",
    "final_medoids = results[0]\n",
    "data['clusters'] = results[1]\n",
    "\n",
    "#Count\n",
    "def mark_matches(a, b, exact=False):\n",
    "    \"\"\"\n",
    "    Given two Numpy arrays of {0, 1} labels, returns a new boolean\n",
    "    array indicating at which locations the input arrays have the\n",
    "    same label (i.e., the corresponding entry is True).\n",
    "    \n",
    "    This function can consider \"inexact\" matches. That is, if `exact`\n",
    "    is False, then the function will assume the {0, 1} labels may be\n",
    "    regarded as the same up to a swapping of the labels. This feature\n",
    "    allows\n",
    "    \n",
    "      a == [0, 0, 1, 1, 0, 1, 1]\n",
    "      b == [1, 1, 0, 0, 1, 0, 0]\n",
    "      \n",
    "    to be regarded as equal. (That is, use `exact=False` when you\n",
    "    only care about \"relative\" labeling.)\n",
    "    \"\"\"\n",
    "    assert a.shape == b.shape\n",
    "    a_int = a.astype(dtype=int)\n",
    "    b_int = b.astype(dtype=int)\n",
    "    all_axes = tuple(range(len(a.shape)))\n",
    "    assert ((a_int == 0) | (a_int == 1) | (a_int == 2)).all()\n",
    "    assert ((b_int == 0) | (b_int == 1) | (b_int == 2)).all()\n",
    "    \n",
    "    exact_matches = (a_int == b_int)\n",
    "    if exact:\n",
    "        return exact_matches\n",
    "\n",
    "    assert exact == False\n",
    "    num_exact_matches = np.sum(exact_matches)\n",
    "    if (2*num_exact_matches) >= np.prod (a.shape):\n",
    "        return exact_matches\n",
    "    return exact_matches == False # Invert\n",
    "\n",
    "def count_matches(a, b, exact=False):\n",
    "    \"\"\"\n",
    "    Given two sets of {0, 1} labels, returns the number of mismatches.\n",
    "    \n",
    "    This function can consider \"inexact\" matches. That is, if `exact`\n",
    "    is False, then the function will assume the {0, 1} labels may be\n",
    "    regarded as similar up to a swapping of the labels. This feature\n",
    "    allows\n",
    "    \n",
    "      a == [0, 0, 1, 1, 0, 1, 1]\n",
    "      b == [1, 1, 0, 0, 1, 0, 0]\n",
    "      \n",
    "    to be regarded as equal. (That is, use `exact=False` when you\n",
    "    only care about \"relative\" labeling.)\n",
    "    \"\"\"\n",
    "    matches = mark_matches(a, b, exact=exact)\n",
    "    return np.sum(matches)\n",
    "\n",
    "n_matches = count_matches(labels, data['clusters'])\n",
    "print(n_matches,\n",
    "      \"matches out of\",\n",
    "      len(data), \"data points\",\n",
    "      \"(~ {:.1f}%)\".format(100.0 * n_matches / len(labels)))"
   ]
  }
 ],
 "metadata": {
  "kernelspec": {
   "display_name": "Python 3",
   "language": "python",
   "name": "python3"
  },
  "language_info": {
   "codemirror_mode": {
    "name": "ipython",
    "version": 3
   },
   "file_extension": ".py",
   "mimetype": "text/x-python",
   "name": "python",
   "nbconvert_exporter": "python",
   "pygments_lexer": "ipython3",
   "version": "3.10.6"
  },
  "orig_nbformat": 4,
  "vscode": {
   "interpreter": {
    "hash": "916dbcbb3f70747c44a77c7bcd40155683ae19c65e1c03b4aa3499c5328201f1"
   }
  }
 },
 "nbformat": 4,
 "nbformat_minor": 2
}
